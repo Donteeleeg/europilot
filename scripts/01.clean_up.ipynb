{
 "cells": [ for mobile phone Android and iPhone
  {
   "cell_type": "markdown",
   "metadata": {},
   "source": [
    "### Clean up data\n",
    "\n",
    "Sometimes, unwanted data needs to be deleted.\n",
    "\n",
    "Each of the screenshot data was manually checked, and was moved to the wrong/ directory.\n",
    "\n",
    "This notebook iterates through the wrong/ directory and removes the accompanying rows inside the csv file."
   ]
  },
  {
   "cell_type": "code",
   "execution_count": 25,
   "metadata": {
    "scrolled": true
   },
   "outputs": [
    {
     "name": "stdout",
     "output_type": "stream",
     "text": [
      "합계 9.8M\r\n",
      "-rw-rw-r-- 1 im9uri im9uri 5.9M  8월 21 15:53 733bbfef.csv\r\n",
      "-rw-rw-r-- 1 im9uri im9uri 4.0M  8월  8 21:58 97802012.csv\r\n",
      "drwxrwxr-x 2 im9uri im9uri 4.0K  8월  8 20:02 \u001b[0m\u001b[01;34mfinal\u001b[0m/\r\n",
      "drwxrwxr-x 2 im9uri im9uri 4.0K  8월  8 20:01 \u001b[01;34mpreprocess\u001b[0m/\r\n"
     ]
    }
   ],
   "source": [
    "%ls -lh ../data/csv"
   ]
  },
  {
   "cell_type": "code",
   "execution_count": 26,
   "metadata": {
    "collapsed": true
   },
   "outputs": [],
   "source": [
    "import pandas as pd\n",
    "import os"
   ]
  },
  {
   "cell_type": "code",
   "execution_count": 27,
   "metadata": {
    "collapsed": true
   },
   "outputs": [],
   "source": [
    "parent_path = os.path.dirname(os.getcwd())\n",
    "\n",
    "csv_file = '97802012'\n",
    "csv_file_name = csv_file + '.csv'\n",
    "csv_dir_path = os.path.join(parent_path, 'data', 'csv')\n",
    "csv_file_path = os.path.join(csv_dir_path, csv_file_name)\n",
    "\n",
    "img_dir_path =  os.path.join(parent_path, 'data', 'img', 'raw')\n",
    "img_output_dir_path = os.path.join(img_dir_path, csv_file)\n",
    "img_wrong_dir_path = os.path.join(parent_path, 'data', 'img', 'wrong')"
   ]
  },
  {
   "cell_type": "code",
   "execution_count": 28,
   "metadata": {
    "scrolled": false
   },
   "outputs": [
    {
     "name": "stdout",
     "output_type": "stream",
     "text": [
      "39342 rows\n"
     ]
    },
    {
     "data": {
      "text/html": [
       "<div>\n",
       "<style>\n",
       "    .dataframe thead tr:only-child th {\n",
       "        text-align: right;\n",
       "    }\n",
       "\n",
       "    .dataframe thead th {\n",
       "        text-align: left;\n",
       "    }\n",
       "\n",
       "    .dataframe tbody tr th {\n",
       "        vertical-align: top;\n",
       "    }\n",
       "</style>\n",
       "<table border=\"1\" class=\"dataframe\">\n",
       "  <thead>\n",
       "    <tr style=\"text-align: right;\">\n",
       "      <th></th>\n",
       "      <th>img</th>\n",
       "      <th>wheel-axis</th>\n",
       "      <th>clutch</th>\n",
       "      <th>brake</th>\n",
       "      <th>gas</th>\n",
       "      <th>paddle-left</th>\n",
       "      <th>paddle-right</th>\n",
       "      <th>wheel-button-left-1</th>\n",
       "      <th>wheel-button-left-2</th>\n",
       "      <th>wheel-button-left-3</th>\n",
       "      <th>...</th>\n",
       "      <th>shifter-button-2</th>\n",
       "      <th>shifter-button-3</th>\n",
       "      <th>shifter-button-4</th>\n",
       "      <th>gear-1</th>\n",
       "      <th>gear-2</th>\n",
       "      <th>gear-3</th>\n",
       "      <th>gear-4</th>\n",
       "      <th>gear-5</th>\n",
       "      <th>gear-6</th>\n",
       "      <th>gear-R</th>\n",
       "    </tr>\n",
       "  </thead>\n",
       "  <tbody>\n",
       "    <tr>\n",
       "      <th>0</th>\n",
       "      <td>97802012_2017_08_08_20_23_27_84.jpg</td>\n",
       "      <td>0</td>\n",
       "      <td>0</td>\n",
       "      <td>0</td>\n",
       "      <td>0</td>\n",
       "      <td>0</td>\n",
       "      <td>0</td>\n",
       "      <td>0</td>\n",
       "      <td>0</td>\n",
       "      <td>0</td>\n",
       "      <td>...</td>\n",
       "      <td>0</td>\n",
       "      <td>0</td>\n",
       "      <td>0</td>\n",
       "      <td>0</td>\n",
       "      <td>0</td>\n",
       "      <td>0</td>\n",
       "      <td>0</td>\n",
       "      <td>0</td>\n",
       "      <td>0</td>\n",
       "      <td>0</td>\n",
       "    </tr>\n",
       "    <tr>\n",
       "      <th>1</th>\n",
       "      <td>97802012_2017_08_08_20_23_27_94.jpg</td>\n",
       "      <td>0</td>\n",
       "      <td>0</td>\n",
       "      <td>0</td>\n",
       "      <td>0</td>\n",
       "      <td>0</td>\n",
       "      <td>0</td>\n",
       "      <td>0</td>\n",
       "      <td>0</td>\n",
       "      <td>0</td>\n",
       "      <td>...</td>\n",
       "      <td>0</td>\n",
       "      <td>0</td>\n",
       "      <td>0</td>\n",
       "      <td>0</td>\n",
       "      <td>0</td>\n",
       "      <td>0</td>\n",
       "      <td>0</td>\n",
       "      <td>0</td>\n",
       "      <td>0</td>\n",
       "      <td>0</td>\n",
       "    </tr>\n",
       "    <tr>\n",
       "      <th>2</th>\n",
       "      <td>97802012_2017_08_08_20_23_28_02.jpg</td>\n",
       "      <td>0</td>\n",
       "      <td>0</td>\n",
       "      <td>0</td>\n",
       "      <td>0</td>\n",
       "      <td>0</td>\n",
       "      <td>0</td>\n",
       "      <td>0</td>\n",
       "      <td>0</td>\n",
       "      <td>0</td>\n",
       "      <td>...</td>\n",
       "      <td>0</td>\n",
       "      <td>0</td>\n",
       "      <td>0</td>\n",
       "      <td>0</td>\n",
       "      <td>0</td>\n",
       "      <td>0</td>\n",
       "      <td>0</td>\n",
       "      <td>0</td>\n",
       "      <td>0</td>\n",
       "      <td>0</td>\n",
       "    </tr>\n",
       "  </tbody>\n",
       "</table>\n",
       "<p>3 rows × 30 columns</p>\n",
       "</div>"
      ],
      "text/plain": [
       "                                   img  wheel-axis  clutch  brake  gas  \\\n",
       "0  97802012_2017_08_08_20_23_27_84.jpg           0       0      0    0   \n",
       "1  97802012_2017_08_08_20_23_27_94.jpg           0       0      0    0   \n",
       "2  97802012_2017_08_08_20_23_28_02.jpg           0       0      0    0   \n",
       "\n",
       "   paddle-left  paddle-right  wheel-button-left-1  wheel-button-left-2  \\\n",
       "0            0             0                    0                    0   \n",
       "1            0             0                    0                    0   \n",
       "2            0             0                    0                    0   \n",
       "\n",
       "   wheel-button-left-3   ...    shifter-button-2  shifter-button-3  \\\n",
       "0                    0   ...                   0                 0   \n",
       "1                    0   ...                   0                 0   \n",
       "2                    0   ...                   0                 0   \n",
       "\n",
       "   shifter-button-4  gear-1  gear-2  gear-3  gear-4  gear-5  gear-6  gear-R  \n",
       "0                 0       0       0       0       0       0       0       0  \n",
       "1                 0       0       0       0       0       0       0       0  \n",
       "2                 0       0       0       0       0       0       0       0  \n",
       "\n",
       "[3 rows x 30 columns]"
      ]
     },
     "execution_count": 28,
     "metadata": {},
     "output_type": "execute_result"
    }
   ],
   "source": [
    "df = pd.read_csv(csv_file_path, header=0)\n",
    "old_rows_count = df.shape[0]\n",
    "print(\"%d rows\" % df.shape[0])\n",
    "df.head(3)"
   ]
  },
  {
   "cell_type": "markdown",
   "metadata": {},
   "source": [
    "Get wrong image list"
   ]
  },
  {
   "cell_type": "code",
   "execution_count": 29,
   "metadata": {
    "collapsed": true
   },
   "outputs": [],
   "source": [
    "wrong_list = os.listdir(img_wrong_dir_path)"
   ]
  },
  {
   "cell_type": "code",
   "execution_count": 30,
   "metadata": {
    "collapsed": true
   },
   "outputs": [],
   "source": [
    "wrong_list = [x for x in wrong_list if csv_file in x]"
   ]
  },
  {
   "cell_type": "code",
   "execution_count": 31,
   "metadata": {},
   "outputs": [
    {
     "data": {
      "text/plain": [
       "132"
      ]
     },
     "execution_count": 31,
     "metadata": {},
     "output_type": "execute_result"
    }
   ],
   "source": [
    "len(wrong_list)"
   ]
  },
  {
   "cell_type": "markdown",
   "metadata": {},
   "source": [
    "Get index of each wrong image"
   ]
  },
  {
   "cell_type": "code",
   "execution_count": 32,
   "metadata": {
    "collapsed": true
   },
   "outputs": [],
   "source": [
    "def get_index(i):\n",
    "    return df[df['img'] == i].index.tolist()[0]"
   ]
  },
  {
   "cell_type": "code",
   "execution_count": 33,
   "metadata": {
    "collapsed": true
   },
   "outputs": [],
   "source": [
    "wrong_list_index = [get_index(i) for i in wrong_list]"
   ]
  },
  {
   "cell_type": "markdown",
   "metadata": {},
   "source": [
    "Remove the rows, and save the modified csv file"
   ]
  },
  {
   "cell_type": "code",
   "execution_count": 34,
   "metadata": {
    "collapsed": true
   },
   "outputs": [],
   "source": [
    "df = df.drop(df.index[wrong_list_index])"
   ]
  },
  {
   "cell_type": "code",
   "execution_count": 35,
   "metadata": {},
   "outputs": [
    {
     "data": {
      "text/plain": [
       "39210"
      ]
     },
     "execution_count": 35,
     "metadata": {},
     "output_type": "execute_result"
    }
   ],
   "source": [
    "df.shape[0]"
   ]
  },
  {
   "cell_type": "code",
   "execution_count": 36,
   "metadata": {
    "collapsed": true
   },
   "outputs": [],
   "source": [
    "assert(df.shape[0] + len(wrong_list) == old_rows_count)"
   ]
  },
  {
   "cell_type": "code",
   "execution_count": 37,
   "metadata": {
    "collapsed": true
   },
   "outputs": [],
   "source": [
    "df.to_csv(csv_file_path, index=False)"
   ]
  },
  {
   "cell_type": "markdown",
   "metadata": {},
   "source": [
    "Check to see that it was saved well"
   ]
  },
  {
   "cell_type": "code",
   "execution_count": 38,
   "metadata": {},
   "outputs": [
    {
     "name": "stdout",
     "output_type": "stream",
     "text": [
      "39210 rows\n"
     ]
    },
    {
     "data": {
      "text/html": [
       "<div>\n",
       "<style>\n",
       "    .dataframe thead tr:only-child th {\n",
       "        text-align: right;\n",
       "    }\n",
       "\n",
       "    .dataframe thead th {\n",
       "        text-align: left;\n",
       "    }\n",
       "\n",
       "    .dataframe tbody tr th {\n",
       "        vertical-align: top;\n",
       "    }\n",
       "</style>\n",
       "<table border=\"1\" class=\"dataframe\">\n",
       "  <thead>\n",
       "    <tr style=\"text-align: right;\">\n",
       "      <th></th>\n",
       "      <th>img</th>\n",
       "      <th>wheel-axis</th>\n",
       "      <th>clutch</th>\n",
       "      <th>brake</th>\n",
       "      <th>gas</th>\n",
       "      <th>paddle-left</th>\n",
       "      <th>paddle-right</th>\n",
       "      <th>wheel-button-left-1</th>\n",
       "      <th>wheel-button-left-2</th>\n",
       "      <th>wheel-button-left-3</th>\n",
       "      <th>...</th>\n",
       "      <th>shifter-button-2</th>\n",
       "      <th>shifter-button-3</th>\n",
       "      <th>shifter-button-4</th>\n",
       "      <th>gear-1</th>\n",
       "      <th>gear-2</th>\n",
       "      <th>gear-3</th>\n",
       "      <th>gear-4</th>\n",
       "      <th>gear-5</th>\n",
       "      <th>gear-6</th>\n",
       "      <th>gear-R</th>\n",
       "    </tr>\n",
       "  </thead>\n",
       "  <tbody>\n",
       "    <tr>\n",
       "      <th>0</th>\n",
       "      <td>97802012_2017_08_08_20_23_27_84.jpg</td>\n",
       "      <td>0</td>\n",
       "      <td>0</td>\n",
       "      <td>0</td>\n",
       "      <td>0</td>\n",
       "      <td>0</td>\n",
       "      <td>0</td>\n",
       "      <td>0</td>\n",
       "      <td>0</td>\n",
       "      <td>0</td>\n",
       "      <td>...</td>\n",
       "      <td>0</td>\n",
       "      <td>0</td>\n",
       "      <td>0</td>\n",
       "      <td>0</td>\n",
       "      <td>0</td>\n",
       "      <td>0</td>\n",
       "      <td>0</td>\n",
       "      <td>0</td>\n",
       "      <td>0</td>\n",
       "      <td>0</td>\n",
       "    </tr>\n",
       "    <tr>\n",
       "      <th>1</th>\n",
       "      <td>97802012_2017_08_08_20_23_27_94.jpg</td>\n",
       "      <td>0</td>\n",
       "      <td>0</td>\n",
       "      <td>0</td>\n",
       "      <td>0</td>\n",
       "      <td>0</td>\n",
       "      <td>0</td>\n",
       "      <td>0</td>\n",
       "      <td>0</td>\n",
       "      <td>0</td>\n",
       "      <td>...</td>\n",
       "      <td>0</td>\n",
       "      <td>0</td>\n",
       "      <td>0</td>\n",
       "      <td>0</td>\n",
       "      <td>0</td>\n",
       "      <td>0</td>\n",
       "      <td>0</td>\n",
       "      <td>0</td>\n",
       "      <td>0</td>\n",
       "      <td>0</td>\n",
       "    </tr>\n",
       "    <tr>\n",
       "      <th>2</th>\n",
       "      <td>97802012_2017_08_08_20_23_28_02.jpg</td>\n",
       "      <td>0</td>\n",
       "      <td>0</td>\n",
       "      <td>0</td>\n",
       "      <td>0</td>\n",
       "      <td>0</td>\n",
       "      <td>0</td>\n",
       "      <td>0</td>\n",
       "      <td>0</td>\n",
       "      <td>0</td>\n",
       "      <td>...</td>\n",
       "      <td>0</td>\n",
       "      <td>0</td>\n",
       "      <td>0</td>\n",
       "      <td>0</td>\n",
       "      <td>0</td>\n",
       "      <td>0</td>\n",
       "      <td>0</td>\n",
       "      <td>0</td>\n",
       "      <td>0</td>\n",
       "      <td>0</td>\n",
       "    </tr>\n",
       "  </tbody>\n",
       "</table>\n",
       "<p>3 rows × 30 columns</p>\n",
       "</div>"
      ],
      "text/plain": [
       "                                   img  wheel-axis  clutch  brake  gas  \\\n",
       "0  97802012_2017_08_08_20_23_27_84.jpg           0       0      0    0   \n",
       "1  97802012_2017_08_08_20_23_27_94.jpg           0       0      0    0   \n",
       "2  97802012_2017_08_08_20_23_28_02.jpg           0       0      0    0   \n",
       "\n",
       "   paddle-left  paddle-right  wheel-button-left-1  wheel-button-left-2  \\\n",
       "0            0             0                    0                    0   \n",
       "1            0             0                    0                    0   \n",
       "2            0             0                    0                    0   \n",
       "\n",
       "   wheel-button-left-3   ...    shifter-button-2  shifter-button-3  \\\n",
       "0                    0   ...                   0                 0   \n",
       "1                    0   ...                   0                 0   \n",
       "2                    0   ...                   0                 0   \n",
       "\n",
       "   shifter-button-4  gear-1  gear-2  gear-3  gear-4  gear-5  gear-6  gear-R  \n",
       "0                 0       0       0       0       0       0       0       0  \n",
       "1                 0       0       0       0       0       0       0       0  \n",
       "2                 0       0       0       0       0       0       0       0  \n",
       "\n",
       "[3 rows x 30 columns]"
      ]
     },
     "execution_count": 38,
     "metadata": {},
     "output_type": "execute_result"
    }
   ],
   "source": [
    "df = pd.read_csv(csv_file_path, header=0)\n",
    "print(\"%d rows\" % df.shape[0])\n",
    "df.head(3)"
   ]
  },
  {
   "cell_type": "code",
   "execution_count": null,
   "metadata": {
    "collapsed": true
   },
   "outputs": [],
   "source": []
  },
  {
   "cell_type": "markdown",
   "metadata": {
    "collapsed": true
   },
   "source": [
    "Move img files to respective output directory. (To indicate that we have looked at the images, and removed the \"wrong\" images)"
   ]
  },
  {
   "cell_type": "code",
   "execution_count": 39,
   "metadata": {
    "collapsed": true
   },
   "outputs": [],
   "source": [
    "if not os.path.exists(img_output_dir_path):\n",
    "    os.makedirs(img_output_dir_path)"
   ]
new truck simulator video game
} all cities and states create your own customized truck painted decorated design it and design the trailer and pick out your trailer
pick your character and start to make some real money driving real trucks
